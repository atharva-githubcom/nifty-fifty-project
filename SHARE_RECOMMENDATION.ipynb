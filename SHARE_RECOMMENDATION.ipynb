{
  "nbformat": 4,
  "nbformat_minor": 0,
  "metadata": {
    "colab": {
      "provenance": [],
      "gpuType": "T4",
      "authorship_tag": "ABX9TyOipYBJ0p1o+rk058p9Go30",
      "include_colab_link": true
    },
    "kernelspec": {
      "name": "python3",
      "display_name": "Python 3"
    },
    "language_info": {
      "name": "python"
    },
    "accelerator": "GPU"
  },
  "cells": [
    {
      "cell_type": "markdown",
      "metadata": {
        "id": "view-in-github",
        "colab_type": "text"
      },
      "source": [
        "<a href=\"https://colab.research.google.com/github/atharva-githubcom/nifty-fifty-project/blob/main/SHARE_RECOMMENDATION.ipynb\" target=\"_parent\"><img src=\"https://colab.research.google.com/assets/colab-badge.svg\" alt=\"Open In Colab\"/></a>"
      ]
    },
    {
      "cell_type": "code",
      "source": [
        "from google.colab import drive\n",
        "drive.mount('/content/drive')"
      ],
      "metadata": {
        "colab": {
          "base_uri": "https://localhost:8080/"
        },
        "id": "O480skRZ8rVk",
        "outputId": "19adf6f5-5dd8-4512-cf65-6496af8fb5b9"
      },
      "execution_count": null,
      "outputs": [
        {
          "output_type": "stream",
          "name": "stdout",
          "text": [
            "Mounted at /content/drive\n"
          ]
        }
      ]
    },
    {
      "cell_type": "markdown",
      "source": [
        "**DATASET  CLEANING**"
      ],
      "metadata": {
        "id": "gPmRoZJjPUFh"
      }
    },
    {
      "cell_type": "code",
      "source": [
        "import pandas as pd\n",
        "\n",
        "# Load the dataset\n",
        "file_path = \"/content/drive/MyDrive/nifty_500_quarterly_results new.csv\"\n",
        "df = pd.read_csv(file_path)\n",
        "\n",
        "# Check for null values\n",
        "print(\"Null values before cleaning:\")\n",
        "print(df.isnull().sum())\n",
        "\n",
        "# Choose a strategy to handle null values (e.g., fillna with mean)\n",
        "# For example:\n",
        "# df.fillna(df.mean(), inplace=True)  # Fill null values with mean of each column\n",
        "\n",
        "# Implement your chosen strategy\n",
        "# For example, to drop rows with any null values:\n",
        "# df.dropna(inplace=True)\n",
        "\n",
        "# Validate the results\n",
        "print(\"\\nNull values after cleaning:\")\n",
        "print(df.isnull().sum())\n",
        "\n",
        "# Save the cleaned dataset to a new CSV file\n",
        "cleaned_file_path = \"cleaned_dataset.csv\"\n",
        "df.to_csv(cleaned_file_path, index=False)\n",
        "\n",
        "print(f\"\\nCleaned dataset saved to '{cleaned_file_path}'.\")"
      ],
      "metadata": {
        "id": "O1OTqsXr9Ora",
        "colab": {
          "base_uri": "https://localhost:8080/"
        },
        "outputId": "942d1b74-c2fc-4374-da6f-d0265652e248"
      },
      "execution_count": 2,
      "outputs": [
        {
          "output_type": "stream",
          "name": "stdout",
          "text": [
            "Null values before cleaning:\n",
            "name                       0\n",
            "NSE_code                   0\n",
            "BSE_code                   0\n",
            "sector                     0\n",
            "industry                   0\n",
            "revenue                    1\n",
            "operating_expenses         1\n",
            "operating_profit           1\n",
            "operating_profit_margin    1\n",
            "depreciation               1\n",
            "interest                   1\n",
            "profit_before_tax          1\n",
            "tax                        1\n",
            "net_profit                 1\n",
            "EPS                        1\n",
            "profit_TTM                 3\n",
            "EPS_TTM                    3\n",
            "dtype: int64\n",
            "\n",
            "Null values after cleaning:\n",
            "name                       0\n",
            "NSE_code                   0\n",
            "BSE_code                   0\n",
            "sector                     0\n",
            "industry                   0\n",
            "revenue                    1\n",
            "operating_expenses         1\n",
            "operating_profit           1\n",
            "operating_profit_margin    1\n",
            "depreciation               1\n",
            "interest                   1\n",
            "profit_before_tax          1\n",
            "tax                        1\n",
            "net_profit                 1\n",
            "EPS                        1\n",
            "profit_TTM                 3\n",
            "EPS_TTM                    3\n",
            "dtype: int64\n",
            "\n",
            "Cleaned dataset saved to 'cleaned_dataset.csv'.\n"
          ]
        }
      ]
    },
    {
      "cell_type": "markdown",
      "source": [
        "**MACHINE LEARNING MODEL WHICH WILL RECOMMEND TOP 10 COMPANIES BY NAME **"
      ],
      "metadata": {
        "id": "_RN7ruvsQTIL"
      }
    },
    {
      "cell_type": "code",
      "source": [
        "import pandas as pd\n",
        "from sklearn.preprocessing import StandardScaler, LabelEncoder\n",
        "import re\n",
        "\n",
        "# Load the dataset\n",
        "data = pd.read_csv(\"/content/cleaned_dataset.csv\")"
      ],
      "metadata": {
        "id": "PbjoCJ6XODFd"
      },
      "execution_count": 17,
      "outputs": []
    },
    {
      "cell_type": "code",
      "source": [
        "# Selecting the specified columns\n",
        "selected_cols = [\"name\", \"sector\", \"industry\", \"revenue\", \"operating_expenses\", \"operating_profit\",\n",
        "                 \"operating_profit_margin\", \"depreciation\", \"interest\", \"profit_before_tax\",\n",
        "                 \"tax\", \"net_profit\", \"EPS\", \"profit_TTM\", \"EPS_TTM\"]\n",
        "\n",
        "data = data[selected_cols]"
      ],
      "metadata": {
        "id": "a4fFqKWrOcL1"
      },
      "execution_count": 18,
      "outputs": []
    },
    {
      "cell_type": "code",
      "source": [
        "# Preprocess numerical columns to remove commas and percentage symbols\n",
        "numerical_cols = [\"revenue\", \"operating_expenses\", \"operating_profit\",\n",
        "                  \"operating_profit_margin\", \"depreciation\", \"interest\",\n",
        "                  \"profit_before_tax\", \"tax\", \"net_profit\", \"EPS\", \"profit_TTM\", \"EPS_TTM\"]\n",
        "\n",
        "for col in numerical_cols:\n",
        "    data[col] = data[col].apply(lambda x: re.sub('[,%]', '', str(x)))"
      ],
      "metadata": {
        "id": "utJBES48OfRj"
      },
      "execution_count": 19,
      "outputs": []
    },
    {
      "cell_type": "code",
      "source": [
        "# Convert numerical columns to float\n",
        "data[numerical_cols] = data[numerical_cols].astype(float)\n",
        "\n",
        "# Separate numerical and categorical columns\n",
        "categorical_cols = [\"sector\", \"industry\"]\n"
      ],
      "metadata": {
        "id": "Cci2y_qmOpWW"
      },
      "execution_count": 20,
      "outputs": []
    },
    {
      "cell_type": "code",
      "source": [
        "# Encode categorical variables\n",
        "label_encoders = {}\n",
        "for col in categorical_cols:\n",
        "    label_encoders[col] = LabelEncoder()\n",
        "    data[col] = label_encoders[col].fit_transform(data[col])"
      ],
      "metadata": {
        "id": "_e9QsPsWOqzL"
      },
      "execution_count": 21,
      "outputs": []
    },
    {
      "cell_type": "code",
      "source": [
        "# Standardize numerical features\n",
        "scaler = StandardScaler()\n",
        "data[numerical_cols] = scaler.fit_transform(data[numerical_cols])\n",
        "\n",
        "# Rank shares based on industry names and company names\n",
        "top_20_shares = data.sort_values(by=[\"industry\", \"name\"]).head(20)"
      ],
      "metadata": {
        "id": "qzH1yGbrOyvt"
      },
      "execution_count": 26,
      "outputs": []
    },
    {
      "cell_type": "code",
      "source": [
        "print(\"Top 10 recommended shares:\")\n",
        "print(top_20_shares[[\"name\", \"industry\"]])  # Output company name and industry only"
      ],
      "metadata": {
        "colab": {
          "base_uri": "https://localhost:8080/"
        },
        "id": "jp72Smj4O3fX",
        "outputId": "9f1ba293-1d05-4d61-e292-ee70d0b25d50"
      },
      "execution_count": 27,
      "outputs": [
        {
          "output_type": "stream",
          "name": "stdout",
          "text": [
            "Top 10 recommended shares:\n",
            "                                        name  industry\n",
            "24                           Bajaj Auto Ltd.         0\n",
            "78                        Eicher Motors Ltd.         0\n",
            "105                       Hero MotoCorp Ltd.         0\n",
            "236                   TVS Motor Company Ltd.         0\n",
            "398                Anupam Rasayan India Ltd.         1\n",
            "331                   Bayer Cropscience Ltd.         1\n",
            "186                       PI Industries Ltd.         1\n",
            "207                        Rallis India Ltd.         1\n",
            "457                     Sharda Cropchem Ltd.         1\n",
            "356             Sumitomo Chemical India Ltd.         1\n",
            "253                                 UPL Ltd.         1\n",
            "131                 InterGlobe Aviation Ltd.         2\n",
            "107                 Hindalco Industries Ltd.         3\n",
            "180          National Aluminium Company Ltd.         3\n",
            "371                             Vedanta Ltd.         3\n",
            "319       HDFC Asset Management Company Ltd.         4\n",
            "301  Nippon Life India Asset Management Ltd.         4\n",
            "376        UTI Asset Management Company Ltd.         4\n",
            "12         Amara Raja Energy & Mobility Ltd.         5\n",
            "384                   Asahi India Glass Ltd.         5\n"
          ]
        }
      ]
    }
  ]
}